{
 "cells": [
  {
   "cell_type": "code",
   "execution_count": 1,
   "metadata": {},
   "outputs": [
    {
     "data": {
      "text/plain": [
       "eagle.application.throttle_lock.NSlotLock"
      ]
     },
     "execution_count": 1,
     "metadata": {},
     "output_type": "execute_result"
    }
   ],
   "source": [
    "from eagle.application.throttle_lock import NSlotLock\n",
    "\n",
    "NSlotLock"
   ]
  },
  {
   "cell_type": "code",
   "execution_count": 2,
   "metadata": {},
   "outputs": [],
   "source": [
    "#with NSlotLock(2) as lock:\n",
    "#\tprint(f'{lock=}')\n",
    "#\tprint(f'{NSlotLock.key_dict}')"
   ]
  },
  {
   "cell_type": "code",
   "execution_count": 3,
   "metadata": {},
   "outputs": [],
   "source": [
    "import asyncio\n",
    "\n",
    "table = {}\n",
    "\n",
    "async def foo (s):\n",
    "\tasync with NSlotLock(table, 2, sleep_interval=0.6) as lock:\n",
    "\t\tprint('enter:', lock.key)\n",
    "\t\tawait asyncio.sleep(s)\n"
   ]
  },
  {
   "cell_type": "code",
   "execution_count": 5,
   "metadata": {},
   "outputs": [
    {
     "name": "stdout",
     "output_type": "stream",
     "text": [
      "__enter__\n",
      "i=0\n",
      "self.table={}\n",
      "self.key=0\n",
      "enter: 0\n",
      "__enter__\n",
      "i=0\n",
      "self.table={0: True}\n",
      "i=1\n",
      "self.table={0: True}\n",
      "self.key=1\n",
      "enter: 1\n",
      "__enter__\n",
      "i=0\n",
      "self.table={0: True, 1: True}\n",
      "i=1\n",
      "self.table={0: True, 1: True}\n",
      "self.key=None\n",
      "i=0\n",
      "self.table={0: True, 1: True}\n",
      "i=1\n",
      "self.table={0: True, 1: True}\n",
      "self.key=None\n",
      "__aexit__: self.table={1: True}\n",
      "__aexit__: self.table={}\n",
      "i=0\n",
      "self.table={}\n",
      "self.key=0\n",
      "enter: 0\n",
      "__aexit__: self.table={}\n"
     ]
    },
    {
     "data": {
      "text/plain": [
       "[None, None, None]"
      ]
     },
     "execution_count": 5,
     "metadata": {},
     "output_type": "execute_result"
    }
   ],
   "source": [
    "import asyncio\n",
    "\n",
    "\n",
    "await asyncio.gather(foo(1), foo(1), foo(1))"
   ]
  }
 ],
 "metadata": {
  "kernelspec": {
   "display_name": "env",
   "language": "python",
   "name": "python3"
  },
  "language_info": {
   "codemirror_mode": {
    "name": "ipython",
    "version": 3
   },
   "file_extension": ".py",
   "mimetype": "text/x-python",
   "name": "python",
   "nbconvert_exporter": "python",
   "pygments_lexer": "ipython3",
   "version": "3.10.14"
  }
 },
 "nbformat": 4,
 "nbformat_minor": 2
}
