{
 "cells": [
  {
   "cell_type": "code",
   "execution_count": 1,
   "metadata": {},
   "outputs": [
    {
     "data": {
      "text/plain": [
       "['What are the names of some famous actors that started their careers on Broadway?\\n',\n",
       " 'How did US states get their names?\\n',\n",
       " \"Hi, my sister and her girlfriends want me to play kickball with them. Can you explain how the game is played, so they don't take advantage of me?\\n\",\n",
       " 'What is some cool music from the 1920s?\\n',\n",
       " 'How do I wrap a present neatly?\\n',\n",
       " 'How do I dice without slicing my finger\\n',\n",
       " \"Hi, I'm trying to solve a crossword puzzle, but I've never done one of these before. Can you help me out?\\n\",\n",
       " 'Who is Larry Page?\\n',\n",
       " 'What are different drawers I should have for clothes?\\n',\n",
       " 'I like to host guests at my home from time to time, and I am gathering  recipes of different dishes and drinks to keep things interesting. I am interested in trying some Georgian  dishes. Can you give me a recipe for Kubdari?\\n',\n",
       " 'do you think retinoid is effective on removing the acne? because I have a lot of it\\n',\n",
       " \"I'm trying to teach myself to have nicer handwriting. Can you help?\\n\",\n",
       " 'I like to host guests at my home from time to time, and I am gathering  recipes of different dishes and drinks to keep things interesting. I am interested in trying some Somali  dishes. Can you give me a recipe for Canjeero?\\n',\n",
       " 'What are the best exercises for beginners?\\n',\n",
       " 'Do you know why turkeys became the official food of thanksgiving?\\n',\n",
       " 'I want to get better at networking at work\\n',\n",
       " 'Are there any weird Christmas traditions?\\n',\n",
       " \"Hi, I'm interested in learning to play badminton. Can you explain the game to me?\\n\",\n",
       " 'Do you know why cats always rub up against your legs?\\n',\n",
       " 'I am going to try to roast a pig at home for Thanksgiving this year. What equipment and techniques do I need to successfully get a pig roasted?\\n']"
      ]
     },
     "execution_count": 1,
     "metadata": {},
     "output_type": "execute_result"
    }
   ],
   "source": [
    "qs = open('../Medusa/assets/eval_queries-alpaca.txt', 'r').readlines()\n",
    "qs"
   ]
  },
  {
   "cell_type": "code",
   "execution_count": 2,
   "metadata": {},
   "outputs": [
    {
     "data": {
      "text/plain": [
       "[{'question_id': 1,\n",
       "  'category': 'writing',\n",
       "  'turns': ['What are the names of some famous actors that started their careers on Broadway?\\n']},\n",
       " {'question_id': 2,\n",
       "  'category': 'writing',\n",
       "  'turns': ['How did US states get their names?\\n']},\n",
       " {'question_id': 3,\n",
       "  'category': 'writing',\n",
       "  'turns': [\"Hi, my sister and her girlfriends want me to play kickball with them. Can you explain how the game is played, so they don't take advantage of me?\\n\"]},\n",
       " {'question_id': 4,\n",
       "  'category': 'writing',\n",
       "  'turns': ['What is some cool music from the 1920s?\\n']},\n",
       " {'question_id': 5,\n",
       "  'category': 'writing',\n",
       "  'turns': ['How do I wrap a present neatly?\\n']},\n",
       " {'question_id': 6,\n",
       "  'category': 'writing',\n",
       "  'turns': ['How do I dice without slicing my finger\\n']},\n",
       " {'question_id': 7,\n",
       "  'category': 'writing',\n",
       "  'turns': [\"Hi, I'm trying to solve a crossword puzzle, but I've never done one of these before. Can you help me out?\\n\"]},\n",
       " {'question_id': 8, 'category': 'writing', 'turns': ['Who is Larry Page?\\n']},\n",
       " {'question_id': 9,\n",
       "  'category': 'writing',\n",
       "  'turns': ['What are different drawers I should have for clothes?\\n']},\n",
       " {'question_id': 10,\n",
       "  'category': 'writing',\n",
       "  'turns': ['I like to host guests at my home from time to time, and I am gathering  recipes of different dishes and drinks to keep things interesting. I am interested in trying some Georgian  dishes. Can you give me a recipe for Kubdari?\\n']},\n",
       " {'question_id': 11,\n",
       "  'category': 'writing',\n",
       "  'turns': ['do you think retinoid is effective on removing the acne? because I have a lot of it\\n']},\n",
       " {'question_id': 12,\n",
       "  'category': 'writing',\n",
       "  'turns': [\"I'm trying to teach myself to have nicer handwriting. Can you help?\\n\"]},\n",
       " {'question_id': 13,\n",
       "  'category': 'writing',\n",
       "  'turns': ['I like to host guests at my home from time to time, and I am gathering  recipes of different dishes and drinks to keep things interesting. I am interested in trying some Somali  dishes. Can you give me a recipe for Canjeero?\\n']},\n",
       " {'question_id': 14,\n",
       "  'category': 'writing',\n",
       "  'turns': ['What are the best exercises for beginners?\\n']},\n",
       " {'question_id': 15,\n",
       "  'category': 'writing',\n",
       "  'turns': ['Do you know why turkeys became the official food of thanksgiving?\\n']},\n",
       " {'question_id': 16,\n",
       "  'category': 'writing',\n",
       "  'turns': ['I want to get better at networking at work\\n']},\n",
       " {'question_id': 17,\n",
       "  'category': 'writing',\n",
       "  'turns': ['Are there any weird Christmas traditions?\\n']},\n",
       " {'question_id': 18,\n",
       "  'category': 'writing',\n",
       "  'turns': [\"Hi, I'm interested in learning to play badminton. Can you explain the game to me?\\n\"]},\n",
       " {'question_id': 19,\n",
       "  'category': 'writing',\n",
       "  'turns': ['Do you know why cats always rub up against your legs?\\n']},\n",
       " {'question_id': 20,\n",
       "  'category': 'writing',\n",
       "  'turns': ['I am going to try to roast a pig at home for Thanksgiving this year. What equipment and techniques do I need to successfully get a pig roasted?\\n']}]"
      ]
     },
     "execution_count": 2,
     "metadata": {},
     "output_type": "execute_result"
    }
   ],
   "source": [
    "entries = [\n",
    "\t{\"question_id\": i + 1, \"category\": \"writing\", \"turns\": [q]}\n",
    "\tfor i, q in enumerate(qs)\n",
    "]\n",
    "entries"
   ]
  },
  {
   "cell_type": "code",
   "execution_count": 4,
   "metadata": {},
   "outputs": [
    {
     "name": "stdout",
     "output_type": "stream",
     "text": [
      "{\"question_id\": 1, \"category\": \"writing\", \"turns\": [\"What are the names of some famous actors that started their careers on Broadway?\\n\"]}\n",
      "{\"question_id\": 2, \"category\": \"writing\", \"turns\": [\"How did US states get their names?\\n\"]}\n",
      "{\"question_id\": 3, \"category\": \"writing\", \"turns\": [\"Hi, my sister and her girlfriends want me to play kickball with them. Can you explain how the game is played, so they don't take advantage of me?\\n\"]}\n",
      "{\"question_id\": 4, \"category\": \"writing\", \"turns\": [\"What is some cool music from the 1920s?\\n\"]}\n",
      "{\"question_id\": 5, \"category\": \"writing\", \"turns\": [\"How do I wrap a present neatly?\\n\"]}\n",
      "{\"question_id\": 6, \"category\": \"writing\", \"turns\": [\"How do I dice without slicing my finger\\n\"]}\n",
      "{\"question_id\": 7, \"category\": \"writing\", \"turns\": [\"Hi, I'm trying to solve a crossword puzzle, but I've never done one of these before. Can you help me out?\\n\"]}\n",
      "{\"question_id\": 8, \"category\": \"writing\", \"turns\": [\"Who is Larry Page?\\n\"]}\n",
      "{\"question_id\": 9, \"category\": \"writing\", \"turns\": [\"What are different drawers I should have for clothes?\\n\"]}\n",
      "{\"question_id\": 10, \"category\": \"writing\", \"turns\": [\"I like to host guests at my home from time to time, and I am gathering  recipes of different dishes and drinks to keep things interesting. I am interested in trying some Georgian  dishes. Can you give me a recipe for Kubdari?\\n\"]}\n",
      "{\"question_id\": 11, \"category\": \"writing\", \"turns\": [\"do you think retinoid is effective on removing the acne? because I have a lot of it\\n\"]}\n",
      "{\"question_id\": 12, \"category\": \"writing\", \"turns\": [\"I'm trying to teach myself to have nicer handwriting. Can you help?\\n\"]}\n",
      "{\"question_id\": 13, \"category\": \"writing\", \"turns\": [\"I like to host guests at my home from time to time, and I am gathering  recipes of different dishes and drinks to keep things interesting. I am interested in trying some Somali  dishes. Can you give me a recipe for Canjeero?\\n\"]}\n",
      "{\"question_id\": 14, \"category\": \"writing\", \"turns\": [\"What are the best exercises for beginners?\\n\"]}\n",
      "{\"question_id\": 15, \"category\": \"writing\", \"turns\": [\"Do you know why turkeys became the official food of thanksgiving?\\n\"]}\n",
      "{\"question_id\": 16, \"category\": \"writing\", \"turns\": [\"I want to get better at networking at work\\n\"]}\n",
      "{\"question_id\": 17, \"category\": \"writing\", \"turns\": [\"Are there any weird Christmas traditions?\\n\"]}\n",
      "{\"question_id\": 18, \"category\": \"writing\", \"turns\": [\"Hi, I'm interested in learning to play badminton. Can you explain the game to me?\\n\"]}\n",
      "{\"question_id\": 19, \"category\": \"writing\", \"turns\": [\"Do you know why cats always rub up against your legs?\\n\"]}\n",
      "{\"question_id\": 20, \"category\": \"writing\", \"turns\": [\"I am going to try to roast a pig at home for Thanksgiving this year. What equipment and techniques do I need to successfully get a pig roasted?\\n\"]}\n"
     ]
    }
   ],
   "source": [
    "import json\n",
    "\n",
    "\n",
    "print('\\n'.join([json.dumps(it) for it in entries]))"
   ]
  }
 ],
 "metadata": {
  "kernelspec": {
   "display_name": "env",
   "language": "python",
   "name": "python3"
  },
  "language_info": {
   "codemirror_mode": {
    "name": "ipython",
    "version": 3
   },
   "file_extension": ".py",
   "mimetype": "text/x-python",
   "name": "python",
   "nbconvert_exporter": "python",
   "pygments_lexer": "ipython3",
   "version": "3.10.14"
  }
 },
 "nbformat": 4,
 "nbformat_minor": 2
}
